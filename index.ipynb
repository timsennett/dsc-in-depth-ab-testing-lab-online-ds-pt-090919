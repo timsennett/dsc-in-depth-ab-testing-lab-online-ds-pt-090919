{
 "cells": [
  {
   "cell_type": "markdown",
   "metadata": {},
   "source": [
    "# In Depth A/B Testing - Lab\n",
    "\n",
    "## Introduction\n",
    "\n",
    "In this lab, you'll explore a survey from Kaggle regarding budding data scientists. With this, you'll form some initial hypotheses, and test them using the tools you've acquired to date. \n",
    "\n",
    "## Objectives\n",
    "\n",
    "You will be able to:\n",
    "* Conduct t-tests and an ANOVA on a real-world dataset and interpret the results"
   ]
  },
  {
   "cell_type": "markdown",
   "metadata": {},
   "source": [
    "## Load the Dataset and Perform a Brief Exploration\n",
    "\n",
    "The data is stored in a file called **multipleChoiceResponses_cleaned.csv**. Feel free to check out the original dataset referenced at the bottom of this lab, although this cleaned version will undoubtedly be easier to work with. Additionally, meta-data regarding the questions is stored in a file name **schema.csv**. Load in the data itself as a Pandas DataFrame, and take a moment to briefly get acquainted with it.\n",
    "\n",
    "> Note: If you can't get the file to load properly, try changing the encoding format as in `encoding='latin1'`"
   ]
  },
  {
   "cell_type": "code",
   "execution_count": 69,
   "metadata": {},
   "outputs": [],
   "source": [
    "import pandas as pd\n",
    "\n",
    "import warnings\n",
    "warnings.filterwarnings(\"ignore\")"
   ]
  },
  {
   "cell_type": "code",
   "execution_count": 70,
   "metadata": {},
   "outputs": [],
   "source": [
    "df = pd.read_csv('multipleChoiceResponses_cleaned.csv')"
   ]
  },
  {
   "cell_type": "code",
   "execution_count": 71,
   "metadata": {
    "scrolled": true
   },
   "outputs": [
    {
     "data": {
      "text/html": [
       "<div>\n",
       "<style scoped>\n",
       "    .dataframe tbody tr th:only-of-type {\n",
       "        vertical-align: middle;\n",
       "    }\n",
       "\n",
       "    .dataframe tbody tr th {\n",
       "        vertical-align: top;\n",
       "    }\n",
       "\n",
       "    .dataframe thead th {\n",
       "        text-align: right;\n",
       "    }\n",
       "</style>\n",
       "<table border=\"1\" class=\"dataframe\">\n",
       "  <thead>\n",
       "    <tr style=\"text-align: right;\">\n",
       "      <th></th>\n",
       "      <th>GenderSelect</th>\n",
       "      <th>Country</th>\n",
       "      <th>Age</th>\n",
       "      <th>EmploymentStatus</th>\n",
       "      <th>StudentStatus</th>\n",
       "      <th>LearningDataScience</th>\n",
       "      <th>CodeWriter</th>\n",
       "      <th>CareerSwitcher</th>\n",
       "      <th>CurrentJobTitleSelect</th>\n",
       "      <th>TitleFit</th>\n",
       "      <th>...</th>\n",
       "      <th>JobFactorTitle</th>\n",
       "      <th>JobFactorCompanyFunding</th>\n",
       "      <th>JobFactorImpact</th>\n",
       "      <th>JobFactorRemote</th>\n",
       "      <th>JobFactorIndustry</th>\n",
       "      <th>JobFactorLeaderReputation</th>\n",
       "      <th>JobFactorDiversity</th>\n",
       "      <th>JobFactorPublishingOpportunity</th>\n",
       "      <th>exchangeRate</th>\n",
       "      <th>AdjustedCompensation</th>\n",
       "    </tr>\n",
       "  </thead>\n",
       "  <tbody>\n",
       "    <tr>\n",
       "      <th>0</th>\n",
       "      <td>Non-binary, genderqueer, or gender non-conforming</td>\n",
       "      <td>NaN</td>\n",
       "      <td>NaN</td>\n",
       "      <td>Employed full-time</td>\n",
       "      <td>NaN</td>\n",
       "      <td>NaN</td>\n",
       "      <td>Yes</td>\n",
       "      <td>NaN</td>\n",
       "      <td>DBA/Database Engineer</td>\n",
       "      <td>Fine</td>\n",
       "      <td>...</td>\n",
       "      <td>NaN</td>\n",
       "      <td>NaN</td>\n",
       "      <td>NaN</td>\n",
       "      <td>NaN</td>\n",
       "      <td>NaN</td>\n",
       "      <td>NaN</td>\n",
       "      <td>NaN</td>\n",
       "      <td>NaN</td>\n",
       "      <td>NaN</td>\n",
       "      <td>NaN</td>\n",
       "    </tr>\n",
       "    <tr>\n",
       "      <th>1</th>\n",
       "      <td>Female</td>\n",
       "      <td>United States</td>\n",
       "      <td>30.0</td>\n",
       "      <td>Not employed, but looking for work</td>\n",
       "      <td>NaN</td>\n",
       "      <td>NaN</td>\n",
       "      <td>NaN</td>\n",
       "      <td>NaN</td>\n",
       "      <td>NaN</td>\n",
       "      <td>NaN</td>\n",
       "      <td>...</td>\n",
       "      <td>NaN</td>\n",
       "      <td>NaN</td>\n",
       "      <td>NaN</td>\n",
       "      <td>NaN</td>\n",
       "      <td>NaN</td>\n",
       "      <td>Somewhat important</td>\n",
       "      <td>NaN</td>\n",
       "      <td>NaN</td>\n",
       "      <td>NaN</td>\n",
       "      <td>NaN</td>\n",
       "    </tr>\n",
       "    <tr>\n",
       "      <th>2</th>\n",
       "      <td>Male</td>\n",
       "      <td>Canada</td>\n",
       "      <td>28.0</td>\n",
       "      <td>Not employed, but looking for work</td>\n",
       "      <td>NaN</td>\n",
       "      <td>NaN</td>\n",
       "      <td>NaN</td>\n",
       "      <td>NaN</td>\n",
       "      <td>NaN</td>\n",
       "      <td>NaN</td>\n",
       "      <td>...</td>\n",
       "      <td>Very Important</td>\n",
       "      <td>Very Important</td>\n",
       "      <td>Very Important</td>\n",
       "      <td>Very Important</td>\n",
       "      <td>Very Important</td>\n",
       "      <td>Very Important</td>\n",
       "      <td>Very Important</td>\n",
       "      <td>Very Important</td>\n",
       "      <td>NaN</td>\n",
       "      <td>NaN</td>\n",
       "    </tr>\n",
       "    <tr>\n",
       "      <th>3</th>\n",
       "      <td>Male</td>\n",
       "      <td>United States</td>\n",
       "      <td>56.0</td>\n",
       "      <td>Independent contractor, freelancer, or self-em...</td>\n",
       "      <td>NaN</td>\n",
       "      <td>NaN</td>\n",
       "      <td>Yes</td>\n",
       "      <td>NaN</td>\n",
       "      <td>Operations Research Practitioner</td>\n",
       "      <td>Poorly</td>\n",
       "      <td>...</td>\n",
       "      <td>NaN</td>\n",
       "      <td>NaN</td>\n",
       "      <td>NaN</td>\n",
       "      <td>NaN</td>\n",
       "      <td>NaN</td>\n",
       "      <td>NaN</td>\n",
       "      <td>NaN</td>\n",
       "      <td>NaN</td>\n",
       "      <td>1.0</td>\n",
       "      <td>250000.0</td>\n",
       "    </tr>\n",
       "    <tr>\n",
       "      <th>4</th>\n",
       "      <td>Male</td>\n",
       "      <td>Taiwan</td>\n",
       "      <td>38.0</td>\n",
       "      <td>Employed full-time</td>\n",
       "      <td>NaN</td>\n",
       "      <td>NaN</td>\n",
       "      <td>Yes</td>\n",
       "      <td>NaN</td>\n",
       "      <td>Computer Scientist</td>\n",
       "      <td>Fine</td>\n",
       "      <td>...</td>\n",
       "      <td>NaN</td>\n",
       "      <td>NaN</td>\n",
       "      <td>NaN</td>\n",
       "      <td>NaN</td>\n",
       "      <td>NaN</td>\n",
       "      <td>NaN</td>\n",
       "      <td>NaN</td>\n",
       "      <td>NaN</td>\n",
       "      <td>NaN</td>\n",
       "      <td>NaN</td>\n",
       "    </tr>\n",
       "  </tbody>\n",
       "</table>\n",
       "<p>5 rows × 230 columns</p>\n",
       "</div>"
      ],
      "text/plain": [
       "                                        GenderSelect        Country   Age  \\\n",
       "0  Non-binary, genderqueer, or gender non-conforming            NaN   NaN   \n",
       "1                                             Female  United States  30.0   \n",
       "2                                               Male         Canada  28.0   \n",
       "3                                               Male  United States  56.0   \n",
       "4                                               Male         Taiwan  38.0   \n",
       "\n",
       "                                    EmploymentStatus StudentStatus  \\\n",
       "0                                 Employed full-time           NaN   \n",
       "1                 Not employed, but looking for work           NaN   \n",
       "2                 Not employed, but looking for work           NaN   \n",
       "3  Independent contractor, freelancer, or self-em...           NaN   \n",
       "4                                 Employed full-time           NaN   \n",
       "\n",
       "  LearningDataScience CodeWriter CareerSwitcher  \\\n",
       "0                 NaN        Yes            NaN   \n",
       "1                 NaN        NaN            NaN   \n",
       "2                 NaN        NaN            NaN   \n",
       "3                 NaN        Yes            NaN   \n",
       "4                 NaN        Yes            NaN   \n",
       "\n",
       "              CurrentJobTitleSelect TitleFit         ...           \\\n",
       "0             DBA/Database Engineer     Fine         ...            \n",
       "1                               NaN      NaN         ...            \n",
       "2                               NaN      NaN         ...            \n",
       "3  Operations Research Practitioner   Poorly         ...            \n",
       "4                Computer Scientist     Fine         ...            \n",
       "\n",
       "   JobFactorTitle JobFactorCompanyFunding JobFactorImpact JobFactorRemote  \\\n",
       "0             NaN                     NaN             NaN             NaN   \n",
       "1             NaN                     NaN             NaN             NaN   \n",
       "2  Very Important          Very Important  Very Important  Very Important   \n",
       "3             NaN                     NaN             NaN             NaN   \n",
       "4             NaN                     NaN             NaN             NaN   \n",
       "\n",
       "  JobFactorIndustry JobFactorLeaderReputation JobFactorDiversity  \\\n",
       "0               NaN                       NaN                NaN   \n",
       "1               NaN        Somewhat important                NaN   \n",
       "2    Very Important            Very Important     Very Important   \n",
       "3               NaN                       NaN                NaN   \n",
       "4               NaN                       NaN                NaN   \n",
       "\n",
       "  JobFactorPublishingOpportunity exchangeRate AdjustedCompensation  \n",
       "0                            NaN          NaN                  NaN  \n",
       "1                            NaN          NaN                  NaN  \n",
       "2                 Very Important          NaN                  NaN  \n",
       "3                            NaN          1.0             250000.0  \n",
       "4                            NaN          NaN                  NaN  \n",
       "\n",
       "[5 rows x 230 columns]"
      ]
     },
     "execution_count": 71,
     "metadata": {},
     "output_type": "execute_result"
    }
   ],
   "source": [
    "df.head()"
   ]
  },
  {
   "cell_type": "code",
   "execution_count": 72,
   "metadata": {
    "scrolled": true
   },
   "outputs": [
    {
     "name": "stdout",
     "output_type": "stream",
     "text": [
      "<class 'pandas.core.frame.DataFrame'>\n",
      "RangeIndex: 26394 entries, 0 to 26393\n",
      "Columns: 230 entries, GenderSelect to AdjustedCompensation\n",
      "dtypes: float64(15), object(215)\n",
      "memory usage: 46.3+ MB\n"
     ]
    }
   ],
   "source": [
    "df.info()"
   ]
  },
  {
   "cell_type": "code",
   "execution_count": 73,
   "metadata": {
    "scrolled": true
   },
   "outputs": [
    {
     "data": {
      "text/html": [
       "<div>\n",
       "<style scoped>\n",
       "    .dataframe tbody tr th:only-of-type {\n",
       "        vertical-align: middle;\n",
       "    }\n",
       "\n",
       "    .dataframe tbody tr th {\n",
       "        vertical-align: top;\n",
       "    }\n",
       "\n",
       "    .dataframe thead th {\n",
       "        text-align: right;\n",
       "    }\n",
       "</style>\n",
       "<table border=\"1\" class=\"dataframe\">\n",
       "  <thead>\n",
       "    <tr style=\"text-align: right;\">\n",
       "      <th></th>\n",
       "      <th>LearningCategorySelftTaught</th>\n",
       "      <th>LearningCategoryOnlineCourses</th>\n",
       "      <th>LearningCategoryWork</th>\n",
       "      <th>LearningCategoryUniversity</th>\n",
       "      <th>LearningCategoryKaggle</th>\n",
       "      <th>LearningCategoryOther</th>\n",
       "      <th>TimeGatheringData</th>\n",
       "      <th>TimeModelBuilding</th>\n",
       "      <th>TimeProduction</th>\n",
       "      <th>TimeVisualizing</th>\n",
       "      <th>TimeFindingInsights</th>\n",
       "      <th>TimeOtherSelect</th>\n",
       "      <th>CompensationAmount</th>\n",
       "      <th>exchangeRate</th>\n",
       "      <th>AdjustedCompensation</th>\n",
       "    </tr>\n",
       "  </thead>\n",
       "  <tbody>\n",
       "    <tr>\n",
       "      <th>count</th>\n",
       "      <td>16236.000000</td>\n",
       "      <td>16253.000000</td>\n",
       "      <td>16238.000000</td>\n",
       "      <td>16249.000000</td>\n",
       "      <td>16253.000000</td>\n",
       "      <td>16221.000000</td>\n",
       "      <td>10657.000000</td>\n",
       "      <td>10655.000000</td>\n",
       "      <td>10644.000000</td>\n",
       "      <td>10656.000000</td>\n",
       "      <td>10650.000000</td>\n",
       "      <td>10640.000000</td>\n",
       "      <td>5.178000e+03</td>\n",
       "      <td>4499.000000</td>\n",
       "      <td>4.343000e+03</td>\n",
       "    </tr>\n",
       "    <tr>\n",
       "      <th>mean</th>\n",
       "      <td>33.596945</td>\n",
       "      <td>25.814680</td>\n",
       "      <td>13.760184</td>\n",
       "      <td>21.133270</td>\n",
       "      <td>4.467212</td>\n",
       "      <td>1.449728</td>\n",
       "      <td>35.680304</td>\n",
       "      <td>27.455279</td>\n",
       "      <td>10.007657</td>\n",
       "      <td>13.639968</td>\n",
       "      <td>9.249953</td>\n",
       "      <td>2.254041</td>\n",
       "      <td>4.129494e+07</td>\n",
       "      <td>0.703416</td>\n",
       "      <td>6.636071e+06</td>\n",
       "    </tr>\n",
       "    <tr>\n",
       "      <th>std</th>\n",
       "      <td>23.781350</td>\n",
       "      <td>24.558786</td>\n",
       "      <td>17.845975</td>\n",
       "      <td>23.784604</td>\n",
       "      <td>10.186693</td>\n",
       "      <td>8.437395</td>\n",
       "      <td>19.364950</td>\n",
       "      <td>17.450835</td>\n",
       "      <td>10.458430</td>\n",
       "      <td>9.947624</td>\n",
       "      <td>12.429025</td>\n",
       "      <td>10.302431</td>\n",
       "      <td>1.965335e+09</td>\n",
       "      <td>0.486681</td>\n",
       "      <td>4.293996e+08</td>\n",
       "    </tr>\n",
       "    <tr>\n",
       "      <th>min</th>\n",
       "      <td>0.000000</td>\n",
       "      <td>0.000000</td>\n",
       "      <td>0.000000</td>\n",
       "      <td>0.000000</td>\n",
       "      <td>0.000000</td>\n",
       "      <td>0.000000</td>\n",
       "      <td>0.000000</td>\n",
       "      <td>0.000000</td>\n",
       "      <td>0.000000</td>\n",
       "      <td>0.000000</td>\n",
       "      <td>0.000000</td>\n",
       "      <td>0.000000</td>\n",
       "      <td>-9.900000e+01</td>\n",
       "      <td>0.000030</td>\n",
       "      <td>-7.351631e+01</td>\n",
       "    </tr>\n",
       "    <tr>\n",
       "      <th>25%</th>\n",
       "      <td>20.000000</td>\n",
       "      <td>10.000000</td>\n",
       "      <td>0.000000</td>\n",
       "      <td>0.000000</td>\n",
       "      <td>0.000000</td>\n",
       "      <td>0.000000</td>\n",
       "      <td>25.000000</td>\n",
       "      <td>15.000000</td>\n",
       "      <td>5.000000</td>\n",
       "      <td>10.000000</td>\n",
       "      <td>0.000000</td>\n",
       "      <td>0.000000</td>\n",
       "      <td>5.000000e+04</td>\n",
       "      <td>0.058444</td>\n",
       "      <td>2.036942e+04</td>\n",
       "    </tr>\n",
       "    <tr>\n",
       "      <th>50%</th>\n",
       "      <td>30.000000</td>\n",
       "      <td>20.000000</td>\n",
       "      <td>10.000000</td>\n",
       "      <td>15.000000</td>\n",
       "      <td>0.000000</td>\n",
       "      <td>0.000000</td>\n",
       "      <td>30.000000</td>\n",
       "      <td>30.000000</td>\n",
       "      <td>10.000000</td>\n",
       "      <td>10.000000</td>\n",
       "      <td>5.000000</td>\n",
       "      <td>0.000000</td>\n",
       "      <td>9.000000e+04</td>\n",
       "      <td>1.000000</td>\n",
       "      <td>5.381217e+04</td>\n",
       "    </tr>\n",
       "    <tr>\n",
       "      <th>75%</th>\n",
       "      <td>50.000000</td>\n",
       "      <td>35.000000</td>\n",
       "      <td>20.000000</td>\n",
       "      <td>40.000000</td>\n",
       "      <td>5.000000</td>\n",
       "      <td>0.000000</td>\n",
       "      <td>50.000000</td>\n",
       "      <td>40.000000</td>\n",
       "      <td>10.000000</td>\n",
       "      <td>15.000000</td>\n",
       "      <td>15.000000</td>\n",
       "      <td>0.000000</td>\n",
       "      <td>1.900000e+05</td>\n",
       "      <td>1.000000</td>\n",
       "      <td>9.566608e+04</td>\n",
       "    </tr>\n",
       "    <tr>\n",
       "      <th>max</th>\n",
       "      <td>100.000000</td>\n",
       "      <td>100.000000</td>\n",
       "      <td>100.000000</td>\n",
       "      <td>100.000000</td>\n",
       "      <td>100.000000</td>\n",
       "      <td>100.000000</td>\n",
       "      <td>100.000000</td>\n",
       "      <td>100.000000</td>\n",
       "      <td>100.000000</td>\n",
       "      <td>100.000000</td>\n",
       "      <td>303.000000</td>\n",
       "      <td>100.000000</td>\n",
       "      <td>1.000000e+11</td>\n",
       "      <td>2.652053</td>\n",
       "      <td>2.829740e+10</td>\n",
       "    </tr>\n",
       "  </tbody>\n",
       "</table>\n",
       "</div>"
      ],
      "text/plain": [
       "       LearningCategorySelftTaught  LearningCategoryOnlineCourses  \\\n",
       "count                 16236.000000                   16253.000000   \n",
       "mean                     33.596945                      25.814680   \n",
       "std                      23.781350                      24.558786   \n",
       "min                       0.000000                       0.000000   \n",
       "25%                      20.000000                      10.000000   \n",
       "50%                      30.000000                      20.000000   \n",
       "75%                      50.000000                      35.000000   \n",
       "max                     100.000000                     100.000000   \n",
       "\n",
       "       LearningCategoryWork  LearningCategoryUniversity  \\\n",
       "count          16238.000000                16249.000000   \n",
       "mean              13.760184                   21.133270   \n",
       "std               17.845975                   23.784604   \n",
       "min                0.000000                    0.000000   \n",
       "25%                0.000000                    0.000000   \n",
       "50%               10.000000                   15.000000   \n",
       "75%               20.000000                   40.000000   \n",
       "max              100.000000                  100.000000   \n",
       "\n",
       "       LearningCategoryKaggle  LearningCategoryOther  TimeGatheringData  \\\n",
       "count            16253.000000           16221.000000       10657.000000   \n",
       "mean                 4.467212               1.449728          35.680304   \n",
       "std                 10.186693               8.437395          19.364950   \n",
       "min                  0.000000               0.000000           0.000000   \n",
       "25%                  0.000000               0.000000          25.000000   \n",
       "50%                  0.000000               0.000000          30.000000   \n",
       "75%                  5.000000               0.000000          50.000000   \n",
       "max                100.000000             100.000000         100.000000   \n",
       "\n",
       "       TimeModelBuilding  TimeProduction  TimeVisualizing  \\\n",
       "count       10655.000000    10644.000000     10656.000000   \n",
       "mean           27.455279       10.007657        13.639968   \n",
       "std            17.450835       10.458430         9.947624   \n",
       "min             0.000000        0.000000         0.000000   \n",
       "25%            15.000000        5.000000        10.000000   \n",
       "50%            30.000000       10.000000        10.000000   \n",
       "75%            40.000000       10.000000        15.000000   \n",
       "max           100.000000      100.000000       100.000000   \n",
       "\n",
       "       TimeFindingInsights  TimeOtherSelect  CompensationAmount  exchangeRate  \\\n",
       "count         10650.000000     10640.000000        5.178000e+03   4499.000000   \n",
       "mean              9.249953         2.254041        4.129494e+07      0.703416   \n",
       "std              12.429025        10.302431        1.965335e+09      0.486681   \n",
       "min               0.000000         0.000000       -9.900000e+01      0.000030   \n",
       "25%               0.000000         0.000000        5.000000e+04      0.058444   \n",
       "50%               5.000000         0.000000        9.000000e+04      1.000000   \n",
       "75%              15.000000         0.000000        1.900000e+05      1.000000   \n",
       "max             303.000000       100.000000        1.000000e+11      2.652053   \n",
       "\n",
       "       AdjustedCompensation  \n",
       "count          4.343000e+03  \n",
       "mean           6.636071e+06  \n",
       "std            4.293996e+08  \n",
       "min           -7.351631e+01  \n",
       "25%            2.036942e+04  \n",
       "50%            5.381217e+04  \n",
       "75%            9.566608e+04  \n",
       "max            2.829740e+10  "
      ]
     },
     "execution_count": 73,
     "metadata": {},
     "output_type": "execute_result"
    }
   ],
   "source": [
    "df.describe()"
   ]
  },
  {
   "cell_type": "code",
   "execution_count": 74,
   "metadata": {},
   "outputs": [
    {
     "name": "stdout",
     "output_type": "stream",
     "text": [
      "GenderSelect\n",
      "Country\n",
      "Age\n",
      "EmploymentStatus\n",
      "StudentStatus\n",
      "LearningDataScience\n",
      "CodeWriter\n",
      "CareerSwitcher\n",
      "CurrentJobTitleSelect\n",
      "TitleFit\n",
      "CurrentEmployerType\n",
      "MLToolNextYearSelect\n",
      "MLMethodNextYearSelect\n",
      "LanguageRecommendationSelect\n",
      "PublicDatasetsSelect\n",
      "LearningPlatformSelect\n",
      "LearningPlatformUsefulnessArxiv\n",
      "LearningPlatformUsefulnessBlogs\n",
      "LearningPlatformUsefulnessCollege\n",
      "LearningPlatformUsefulnessCompany\n",
      "LearningPlatformUsefulnessConferences\n",
      "LearningPlatformUsefulnessFriends\n",
      "LearningPlatformUsefulnessKaggle\n",
      "LearningPlatformUsefulnessNewsletters\n",
      "LearningPlatformUsefulnessCommunities\n",
      "LearningPlatformUsefulnessDocumentation\n",
      "LearningPlatformUsefulnessCourses\n",
      "LearningPlatformUsefulnessProjects\n",
      "LearningPlatformUsefulnessPodcasts\n",
      "LearningPlatformUsefulnessSO\n",
      "LearningPlatformUsefulnessTextbook\n",
      "LearningPlatformUsefulnessTradeBook\n",
      "LearningPlatformUsefulnessTutoring\n",
      "LearningPlatformUsefulnessYouTube\n",
      "BlogsPodcastsNewslettersSelect\n",
      "LearningDataScienceTime\n",
      "JobSkillImportanceBigData\n",
      "JobSkillImportanceDegree\n",
      "JobSkillImportanceStats\n",
      "JobSkillImportanceEnterpriseTools\n",
      "JobSkillImportancePython\n",
      "JobSkillImportanceR\n",
      "JobSkillImportanceSQL\n",
      "JobSkillImportanceKaggleRanking\n",
      "JobSkillImportanceMOOC\n",
      "JobSkillImportanceVisualizations\n",
      "JobSkillImportanceOtherSelect1\n",
      "JobSkillImportanceOtherSelect2\n",
      "JobSkillImportanceOtherSelect3\n",
      "CoursePlatformSelect\n",
      "HardwarePersonalProjectsSelect\n",
      "TimeSpentStudying\n",
      "ProveKnowledgeSelect\n",
      "DataScienceIdentitySelect\n",
      "FormalEducation\n",
      "MajorSelect\n",
      "Tenure\n",
      "PastJobTitlesSelect\n",
      "FirstTrainingSelect\n",
      "LearningCategorySelftTaught\n",
      "LearningCategoryOnlineCourses\n",
      "LearningCategoryWork\n",
      "LearningCategoryUniversity\n",
      "LearningCategoryKaggle\n",
      "LearningCategoryOther\n",
      "MLSkillsSelect\n",
      "MLTechniquesSelect\n",
      "ParentsEducation\n",
      "EmployerIndustry\n",
      "EmployerSize\n",
      "EmployerSizeChange\n",
      "EmployerMLTime\n",
      "EmployerSearchMethod\n",
      "UniversityImportance\n",
      "JobFunctionSelect\n",
      "WorkHardwareSelect\n",
      "WorkDataTypeSelect\n",
      "WorkProductionFrequency\n",
      "WorkDatasetSize\n",
      "WorkAlgorithmsSelect\n",
      "WorkToolsSelect\n",
      "WorkToolsFrequencyAmazonML\n",
      "WorkToolsFrequencyAWS\n",
      "WorkToolsFrequencyAngoss\n",
      "WorkToolsFrequencyC\n",
      "WorkToolsFrequencyCloudera\n",
      "WorkToolsFrequencyDataRobot\n",
      "WorkToolsFrequencyFlume\n",
      "WorkToolsFrequencyGCP\n",
      "WorkToolsFrequencyHadoop\n",
      "WorkToolsFrequencyIBMCognos\n",
      "WorkToolsFrequencyIBMSPSSModeler\n",
      "WorkToolsFrequencyIBMSPSSStatistics\n",
      "WorkToolsFrequencyIBMWatson\n",
      "WorkToolsFrequencyImpala\n",
      "WorkToolsFrequencyJava\n",
      "WorkToolsFrequencyJulia\n",
      "WorkToolsFrequencyJupyter\n",
      "WorkToolsFrequencyKNIMECommercial\n",
      "WorkToolsFrequencyKNIMEFree\n",
      "WorkToolsFrequencyMathematica\n",
      "WorkToolsFrequencyMATLAB\n",
      "WorkToolsFrequencyAzure\n",
      "WorkToolsFrequencyExcel\n",
      "WorkToolsFrequencyMicrosoftRServer\n",
      "WorkToolsFrequencyMicrosoftSQL\n",
      "WorkToolsFrequencyMinitab\n",
      "WorkToolsFrequencyNoSQL\n",
      "WorkToolsFrequencyOracle\n",
      "WorkToolsFrequencyOrange\n",
      "WorkToolsFrequencyPerl\n",
      "WorkToolsFrequencyPython\n",
      "WorkToolsFrequencyQlik\n",
      "WorkToolsFrequencyR\n",
      "WorkToolsFrequencyRapidMinerCommercial\n",
      "WorkToolsFrequencyRapidMinerFree\n",
      "WorkToolsFrequencySalfrod\n",
      "WorkToolsFrequencySAPBusinessObjects\n",
      "WorkToolsFrequencySASBase\n",
      "WorkToolsFrequencySASEnterprise\n",
      "WorkToolsFrequencySASJMP\n",
      "WorkToolsFrequencySpark\n",
      "WorkToolsFrequencySQL\n",
      "WorkToolsFrequencyStan\n",
      "WorkToolsFrequencyStatistica\n",
      "WorkToolsFrequencyTableau\n",
      "WorkToolsFrequencyTensorFlow\n",
      "WorkToolsFrequencyTIBCO\n",
      "WorkToolsFrequencyUnix\n",
      "WorkToolsFrequencySelect1\n",
      "WorkToolsFrequencySelect2\n",
      "WorkFrequencySelect3\n",
      "WorkMethodsSelect\n",
      "WorkMethodsFrequencyA/B\n",
      "WorkMethodsFrequencyAssociationRules\n",
      "WorkMethodsFrequencyBayesian\n",
      "WorkMethodsFrequencyCNNs\n",
      "WorkMethodsFrequencyCollaborativeFiltering\n",
      "WorkMethodsFrequencyCross-Validation\n",
      "WorkMethodsFrequencyDataVisualization\n",
      "WorkMethodsFrequencyDecisionTrees\n",
      "WorkMethodsFrequencyEnsembleMethods\n",
      "WorkMethodsFrequencyEvolutionaryApproaches\n",
      "WorkMethodsFrequencyGANs\n",
      "WorkMethodsFrequencyGBM\n",
      "WorkMethodsFrequencyHMMs\n",
      "WorkMethodsFrequencyKNN\n",
      "WorkMethodsFrequencyLiftAnalysis\n",
      "WorkMethodsFrequencyLogisticRegression\n",
      "WorkMethodsFrequencyMLN\n",
      "WorkMethodsFrequencyNaiveBayes\n",
      "WorkMethodsFrequencyNLP\n",
      "WorkMethodsFrequencyNeuralNetworks\n",
      "WorkMethodsFrequencyPCA\n",
      "WorkMethodsFrequencyPrescriptiveModeling\n",
      "WorkMethodsFrequencyRandomForests\n",
      "WorkMethodsFrequencyRecommenderSystems\n",
      "WorkMethodsFrequencyRNNs\n",
      "WorkMethodsFrequencySegmentation\n",
      "WorkMethodsFrequencySimulation\n",
      "WorkMethodsFrequencySVMs\n",
      "WorkMethodsFrequencyTextAnalysis\n",
      "WorkMethodsFrequencyTimeSeriesAnalysis\n",
      "WorkMethodsFrequencySelect1\n",
      "WorkMethodsFrequencySelect2\n",
      "WorkMethodsFrequencySelect3\n",
      "TimeGatheringData\n",
      "TimeModelBuilding\n",
      "TimeProduction\n",
      "TimeVisualizing\n",
      "TimeFindingInsights\n",
      "TimeOtherSelect\n",
      "AlgorithmUnderstandingLevel\n",
      "WorkChallengesSelect\n",
      "WorkChallengeFrequencyPolitics\n",
      "WorkChallengeFrequencyUnusedResults\n",
      "WorkChallengeFrequencyUnusefulInstrumenting\n",
      "WorkChallengeFrequencyDeployment\n",
      "WorkChallengeFrequencyDirtyData\n",
      "WorkChallengeFrequencyExplaining\n",
      "WorkChallengeFrequencyPass\n",
      "WorkChallengeFrequencyIntegration\n",
      "WorkChallengeFrequencyTalent\n",
      "WorkChallengeFrequencyDataFunds\n",
      "WorkChallengeFrequencyDomainExpertise\n",
      "WorkChallengeFrequencyML\n",
      "WorkChallengeFrequencyTools\n",
      "WorkChallengeFrequencyExpectations\n",
      "WorkChallengeFrequencyITCoordination\n",
      "WorkChallengeFrequencyHiringFunds\n",
      "WorkChallengeFrequencyPrivacy\n",
      "WorkChallengeFrequencyScaling\n",
      "WorkChallengeFrequencyEnvironments\n",
      "WorkChallengeFrequencyClarity\n",
      "WorkChallengeFrequencyDataAccess\n",
      "WorkChallengeFrequencyOtherSelect\n",
      "WorkDataVisualizations\n",
      "WorkInternalVsExternalTools\n",
      "WorkMLTeamSeatSelect\n",
      "WorkDatasets\n",
      "WorkDatasetsChallenge\n",
      "WorkDataStorage\n",
      "WorkDataSharing\n",
      "WorkDataSourcing\n",
      "WorkCodeSharing\n",
      "RemoteWork\n",
      "CompensationAmount\n",
      "CompensationCurrency\n",
      "SalaryChange\n",
      "JobSatisfaction\n",
      "JobSearchResource\n",
      "JobHuntTime\n",
      "JobFactorLearning\n",
      "JobFactorSalary\n",
      "JobFactorOffice\n",
      "JobFactorLanguages\n",
      "JobFactorCommute\n",
      "JobFactorManagement\n",
      "JobFactorExperienceLevel\n",
      "JobFactorDepartment\n",
      "JobFactorTitle\n",
      "JobFactorCompanyFunding\n",
      "JobFactorImpact\n",
      "JobFactorRemote\n",
      "JobFactorIndustry\n",
      "JobFactorLeaderReputation\n",
      "JobFactorDiversity\n",
      "JobFactorPublishingOpportunity\n",
      "exchangeRate\n",
      "AdjustedCompensation\n"
     ]
    }
   ],
   "source": [
    "# See what all the columns are (There are a lot!)\n",
    "\n",
    "for col in df.columns: \n",
    "    print(col)"
   ]
  },
  {
   "cell_type": "markdown",
   "metadata": {},
   "source": [
    "## Wages and Education\n",
    "\n",
    "You've been asked to determine whether education is impactful to salary. Develop a hypothesis test to compare the salaries of those with Master's degrees to those with Bachelor's degrees. Are the two statistically different according to your results?\n",
    "\n",
    "> Note: The relevant features are stored in the 'FormalEducation' and 'AdjustedCompensation' features.\n",
    "\n",
    "You may import the functions stored in the `flatiron_stats.py` file to help perform your hypothesis tests. It contains the stats functions that you previously coded: `welch_t(a,b)`, `welch_df(a, b)`, and `p_value(a, b, two_sided=False)`. \n",
    "\n",
    "Note that `scipy.stats.ttest_ind(a, b, equal_var=False)` performs a two-sided Welch's t-test and that p-values derived from two-sided tests are two times the p-values derived from one-sided tests. See the [documentation](https://docs.scipy.org/doc/scipy/reference/generated/scipy.stats.ttest_ind.html) for more information.    "
   ]
  },
  {
   "cell_type": "code",
   "execution_count": 75,
   "metadata": {
    "scrolled": false
   },
   "outputs": [
    {
     "data": {
      "text/plain": [
       "0    Bachelor's degree\n",
       "1      Master's degree\n",
       "2      Master's degree\n",
       "3      Master's degree\n",
       "4      Doctoral degree\n",
       "Name: FormalEducation, dtype: object"
      ]
     },
     "execution_count": 75,
     "metadata": {},
     "output_type": "execute_result"
    }
   ],
   "source": [
    "df['FormalEducation'].head()"
   ]
  },
  {
   "cell_type": "code",
   "execution_count": 76,
   "metadata": {
    "scrolled": true
   },
   "outputs": [
    {
     "data": {
      "text/plain": [
       "0         NaN\n",
       "1         NaN\n",
       "2         NaN\n",
       "3    250000.0\n",
       "4         NaN\n",
       "Name: AdjustedCompensation, dtype: float64"
      ]
     },
     "execution_count": 76,
     "metadata": {},
     "output_type": "execute_result"
    }
   ],
   "source": [
    "df['AdjustedCompensation'].head()"
   ]
  },
  {
   "cell_type": "code",
   "execution_count": 77,
   "metadata": {},
   "outputs": [],
   "source": [
    "import flatiron_stats as fs"
   ]
  },
  {
   "cell_type": "code",
   "execution_count": 78,
   "metadata": {},
   "outputs": [],
   "source": [
    "#Subset the appropriate data into 2 groups\n",
    "\n",
    "f1 = 'FormalEducation'\n",
    "f2 = 'AdjustedCompensation'\n",
    "f1c1 = \"Master's degree\"\n",
    "f1c2 = \"Bachelor's degree\"\n",
    "\n",
    "# I think the ~ line here actually EXCLUDES the rows with null values.\n",
    "# Now that makes sense to me. Good trick to know.\n",
    "\n",
    "# Here I'm making a new DF (subset) the only includes rows w/o nulls in the Education and Compensation columns\n",
    "\n",
    "subset = df[(~df['FormalEducation'].isnull()) & (~df['AdjustedCompensation'].isnull())]\n",
    "s1 = subset[subset['FormalEducation']==\"Master's degree\"]['AdjustedCompensation'] # This is the income of people with MAs\n",
    "s2 = subset[subset['FormalEducation']==\"Bachelor's degree\"]['AdjustedCompensation'] # This is the income of people with BAs"
   ]
  },
  {
   "cell_type": "code",
   "execution_count": 79,
   "metadata": {
    "scrolled": true
   },
   "outputs": [
    {
     "name": "stdout",
     "output_type": "stream",
     "text": [
      "Comparison of AdjustedCompensation for Master's degree and Bachelor's degree\n",
      "Median Values: \ts1: 53812.17 \ts2: 38399.4\n",
      "Mean Values: \ts1: 69139.9 \ts2: 64887.1\n",
      "Sample sizes: \ts1: 1990 \ts2: 1107\n",
      "Welch's t-test p-value: 0.33077639451272445\n"
     ]
    }
   ],
   "source": [
    "print('Comparison of {} for {} and {}'.format(f2, f1c1, f1c2))\n",
    "print(\"Median Values: \\ts1: {} \\ts2: {}\".format(round(s1.median(),2), round(s2.median(),2)))\n",
    "print(\"Mean Values: \\ts1: {} \\ts2: {}\".format(round(s1.mean(),2), round(s2.mean(),2)))\n",
    "print('Sample sizes: \\ts1: {} \\ts2: {}'.format(len(s1), len(s2)))\n",
    "print(\"Welch's t-test p-value:\", fs.p_value_welch_ttest(s1, s2))"
   ]
  },
  {
   "cell_type": "code",
   "execution_count": 80,
   "metadata": {},
   "outputs": [],
   "source": [
    "# I should remove outliers to get a more accurate p-value."
   ]
  },
  {
   "cell_type": "code",
   "execution_count": 81,
   "metadata": {
    "scrolled": true
   },
   "outputs": [
    {
     "name": "stdout",
     "output_type": "stream",
     "text": [
      "1990\n",
      "1107\n"
     ]
    }
   ],
   "source": [
    "print(len(s1))\n",
    "print(len(s2))"
   ]
  },
  {
   "cell_type": "code",
   "execution_count": 82,
   "metadata": {},
   "outputs": [],
   "source": [
    "import scipy.stats as stats\n",
    "\n",
    "# stats.iqr(s1) # Interquartile range. Decided not to use this for now.\n",
    "# stats.iqr(s2)"
   ]
  },
  {
   "cell_type": "code",
   "execution_count": 83,
   "metadata": {},
   "outputs": [
    {
     "name": "stdout",
     "output_type": "stream",
     "text": [
      "1987\n",
      "1106\n"
     ]
    }
   ],
   "source": [
    "import numpy as np\n",
    "\n",
    "s1 = s1[s1.between(s1.quantile(.0015), s1.quantile(.9985))] # without outliers\n",
    "s2 = s2[s2.between(s2.quantile(.0015), s2.quantile(.9985))]\n",
    "\n",
    "print(len(s1))\n",
    "print(len(s2))\n",
    "\n",
    "# Notice that 3 outliers were removed from s1, and 4 outliers from s2"
   ]
  },
  {
   "cell_type": "code",
   "execution_count": 84,
   "metadata": {},
   "outputs": [
    {
     "name": "stdout",
     "output_type": "stream",
     "text": [
      "Welch's t-test p-value with outliers removed: 0.0002173020537343806\n"
     ]
    }
   ],
   "source": [
    "print(\"Welch's t-test p-value with outliers removed:\", fs.p_value_welch_ttest(s1, s2))"
   ]
  },
  {
   "cell_type": "markdown",
   "metadata": {},
   "source": [
    "## Wages and Education II\n",
    "\n",
    "Now perform a similar statistical test comparing the AdjustedCompensation of those with Bachelor's degrees and those with Doctorates. If you haven't already, be sure to explore the distribution of the AdjustedCompensation feature for any anomalies. "
   ]
  },
  {
   "cell_type": "code",
   "execution_count": 85,
   "metadata": {
    "scrolled": true
   },
   "outputs": [
    {
     "name": "stdout",
     "output_type": "stream",
     "text": [
      "967\n"
     ]
    }
   ],
   "source": [
    "# Create a third subset out of people with Doctorates\n",
    "\n",
    "s3 = subset[subset['FormalEducation']==\"Doctoral degree\"]['AdjustedCompensation'] # This is the income of people with PhDs\n",
    "print(len(s3))"
   ]
  },
  {
   "cell_type": "code",
   "execution_count": 86,
   "metadata": {
    "scrolled": true
   },
   "outputs": [
    {
     "name": "stdout",
     "output_type": "stream",
     "text": [
      "964\n"
     ]
    }
   ],
   "source": [
    "# Now remove outliers from this subset\n",
    "\n",
    "s3 = s3[s3.between(s3.quantile(.0015), s3.quantile(.9985))]\n",
    "print(len(s3))"
   ]
  },
  {
   "cell_type": "code",
   "execution_count": 87,
   "metadata": {},
   "outputs": [
    {
     "name": "stdout",
     "output_type": "stream",
     "text": [
      "Welch's t-test p-value with outliers removed: 0.0\n"
     ]
    }
   ],
   "source": [
    "print(\"Welch's t-test p-value with outliers removed:\", fs.p_value_welch_ttest(s1, s3))\n",
    "\n",
    "# Clearly people with PhDs are expected to earn more than people with BAs!"
   ]
  },
  {
   "cell_type": "markdown",
   "metadata": {},
   "source": [
    "## Wages and Education III\n",
    "\n",
    "Remember the multiple comparisons problem; rather than continuing on like this, perform an ANOVA test between the various 'FormalEducation' categories and their relation to 'AdjustedCompensation'."
   ]
  },
  {
   "cell_type": "code",
   "execution_count": 88,
   "metadata": {},
   "outputs": [],
   "source": [
    "import statsmodels.api as sm\n",
    "from statsmodels.formula.api import ols"
   ]
  },
  {
   "cell_type": "code",
   "execution_count": 101,
   "metadata": {
    "scrolled": true
   },
   "outputs": [
    {
     "name": "stdout",
     "output_type": "stream",
     "text": [
      "                          sum_sq      df         F    PR(>F)\n",
      "C(FormalEducation)  6.540294e+17     6.0  0.590714  0.738044\n",
      "Residual            7.999414e+20  4335.0       NaN       NaN\n"
     ]
    }
   ],
   "source": [
    "formula = 'AdjustedCompensation ~ C(FormalEducation)'\n",
    "lm = ols(formula, subset).fit()\n",
    "table = sm.stats.anova_lm(lm, typ=2)\n",
    "print(table)\n",
    "\n",
    "# This is without the outliers removed"
   ]
  },
  {
   "cell_type": "markdown",
   "metadata": {},
   "source": [
    "## Additional Resources\n",
    "\n",
    "Here's the original source where the data was taken from:  \n",
    "    [Kaggle Machine Learning & Data Science Survey 2017](https://www.kaggle.com/kaggle/kaggle-survey-2017)"
   ]
  },
  {
   "cell_type": "markdown",
   "metadata": {},
   "source": [
    "## Summary\n",
    "\n",
    "In this lab, you practiced conducting actual hypothesis tests on actual data. From this, you saw how dependent results can be on the initial problem formulation, including preprocessing!"
   ]
  }
 ],
 "metadata": {
  "kernelspec": {
   "display_name": "learn-env",
   "language": "python",
   "name": "learn-env"
  },
  "language_info": {
   "codemirror_mode": {
    "name": "ipython",
    "version": 3
   },
   "file_extension": ".py",
   "mimetype": "text/x-python",
   "name": "python",
   "nbconvert_exporter": "python",
   "pygments_lexer": "ipython3",
   "version": "3.6.6"
  },
  "toc": {
   "base_numbering": 1,
   "nav_menu": {},
   "number_sections": true,
   "sideBar": true,
   "skip_h1_title": false,
   "title_cell": "Table of Contents",
   "title_sidebar": "Contents",
   "toc_cell": false,
   "toc_position": {},
   "toc_section_display": true,
   "toc_window_display": false
  }
 },
 "nbformat": 4,
 "nbformat_minor": 2
}
